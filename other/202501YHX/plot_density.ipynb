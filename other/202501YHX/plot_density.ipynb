{
 "cells": [
  {
   "cell_type": "markdown",
   "id": "30611b89",
   "metadata": {},
   "source": [
    "# Plot density"
   ]
  },
  {
   "cell_type": "code",
   "execution_count": 1,
   "id": "46cee4db-d6cf-4257-905b-27c8fd7aa1b8",
   "metadata": {
    "vscode": {
     "languageId": "r"
    }
   },
   "outputs": [
    {
     "name": "stderr",
     "output_type": "stream",
     "text": [
      "Warning message:\n",
      "“Your system is mis-configured: ‘/var/db/timezone/localtime’ is not a symlink”\n",
      "Warning message:\n",
      "“‘/var/db/timezone/localtime’ is not identical to any known timezone file”\n",
      "Warning message:\n",
      "“Failed to locate timezone database”\n",
      "── \u001b[1mAttaching core tidyverse packages\u001b[22m ──────────────────────── tidyverse 2.0.0 ──\n",
      "\u001b[32m✔\u001b[39m \u001b[34mdplyr    \u001b[39m 1.1.4     \u001b[32m✔\u001b[39m \u001b[34mreadr    \u001b[39m 2.1.5\n",
      "\u001b[32m✔\u001b[39m \u001b[34mforcats  \u001b[39m 1.0.0     \u001b[32m✔\u001b[39m \u001b[34mstringr  \u001b[39m 1.5.1\n",
      "\u001b[32m✔\u001b[39m \u001b[34mggplot2  \u001b[39m 3.5.1     \u001b[32m✔\u001b[39m \u001b[34mtibble   \u001b[39m 3.2.1\n",
      "\u001b[32m✔\u001b[39m \u001b[34mlubridate\u001b[39m 1.9.4     \u001b[32m✔\u001b[39m \u001b[34mtidyr    \u001b[39m 1.3.1\n",
      "\u001b[32m✔\u001b[39m \u001b[34mpurrr    \u001b[39m 1.0.2     \n",
      "── \u001b[1mConflicts\u001b[22m ────────────────────────────────────────── tidyverse_conflicts() ──\n",
      "\u001b[31m✖\u001b[39m \u001b[34mdplyr\u001b[39m::\u001b[32mfilter()\u001b[39m masks \u001b[34mstats\u001b[39m::filter()\n",
      "\u001b[31m✖\u001b[39m \u001b[34mdplyr\u001b[39m::\u001b[32mlag()\u001b[39m    masks \u001b[34mstats\u001b[39m::lag()\n",
      "\u001b[36mℹ\u001b[39m Use the conflicted package (\u001b[3m\u001b[34m<http://conflicted.r-lib.org/>\u001b[39m\u001b[23m) to force all conflicts to become errors\n"
     ]
    }
   ],
   "source": [
    "library(tidyverse)\n",
    "library(readxl)\n",
    "library(stringr)"
   ]
  },
  {
   "cell_type": "code",
   "execution_count": 2,
   "id": "eae69cea",
   "metadata": {
    "vscode": {
     "languageId": "r"
    }
   },
   "outputs": [
    {
     "data": {
      "text/html": [
       "'/home/memory_fzq/work/other/202501YHX'"
      ],
      "text/latex": [
       "'/home/memory\\_fzq/work/other/202501YHX'"
      ],
      "text/markdown": [
       "'/home/memory_fzq/work/other/202501YHX'"
      ],
      "text/plain": [
       "[1] \"/home/memory_fzq/work/other/202501YHX\""
      ]
     },
     "metadata": {},
     "output_type": "display_data"
    }
   ],
   "source": [
    "getwd()"
   ]
  },
  {
   "cell_type": "code",
   "execution_count": null,
   "id": "894617d9",
   "metadata": {
    "vscode": {
     "languageId": "r"
    }
   },
   "outputs": [],
   "source": [
    "setwd(\"work/other/202501YHX/\")"
   ]
  },
  {
   "cell_type": "markdown",
   "id": "e180397c",
   "metadata": {},
   "source": [
    "## Prepare data"
   ]
  },
  {
   "cell_type": "code",
   "execution_count": 4,
   "id": "1ba4b220",
   "metadata": {
    "vscode": {
     "languageId": "r"
    }
   },
   "outputs": [],
   "source": [
    "excel_file <- \"副本BLA-PFC-LC的分区3.xlsx\"\n",
    "sheet_name <- \"计算均值 作图\"\n",
    "label_range <- \"A2:A41\"\n",
    "ranges <- list(\n",
    "    `PFC-LC` = \"B2:E41\",\n",
    "    `BLA-PFC` = \"J2:M41\",\n",
    "    colabel = \"R2:U41\"\n",
    ")"
   ]
  },
  {
   "cell_type": "code",
   "execution_count": 5,
   "id": "2757e0be",
   "metadata": {
    "vscode": {
     "languageId": "r"
    }
   },
   "outputs": [],
   "source": [
    "dist_ranges <- read_excel(\n",
    "    path = excel_file,\n",
    "    sheet = sheet_name,\n",
    "    range = label_range,\n",
    "    col_names = \"distance\"\n",
    ") %>% separate(\n",
    "    distance, into = c(\"min_distance\", \"max_distance\"), sep = \"-\",\n",
    "    remove = FALSE\n",
    ") %>% mutate(across(c(min_distance, max_distance), as.numeric))\n"
   ]
  },
  {
   "cell_type": "code",
   "execution_count": 6,
   "id": "8fd6a931",
   "metadata": {
    "vscode": {
     "languageId": "r"
    }
   },
   "outputs": [
    {
     "data": {
      "text/html": [
       "<table class=\"dataframe\">\n",
       "<caption>A tibble: 6 × 3</caption>\n",
       "<thead>\n",
       "\t<tr><th scope=col>distance</th><th scope=col>min_distance</th><th scope=col>max_distance</th></tr>\n",
       "\t<tr><th scope=col>&lt;chr&gt;</th><th scope=col>&lt;dbl&gt;</th><th scope=col>&lt;dbl&gt;</th></tr>\n",
       "</thead>\n",
       "<tbody>\n",
       "\t<tr><td>0-25   </td><td>  0</td><td> 25</td></tr>\n",
       "\t<tr><td>25-50  </td><td> 25</td><td> 50</td></tr>\n",
       "\t<tr><td>50-75  </td><td> 50</td><td> 75</td></tr>\n",
       "\t<tr><td>75-100 </td><td> 75</td><td>100</td></tr>\n",
       "\t<tr><td>100-125</td><td>100</td><td>125</td></tr>\n",
       "\t<tr><td>125-150</td><td>125</td><td>150</td></tr>\n",
       "</tbody>\n",
       "</table>\n"
      ],
      "text/latex": [
       "A tibble: 6 × 3\n",
       "\\begin{tabular}{lll}\n",
       " distance & min\\_distance & max\\_distance\\\\\n",
       " <chr> & <dbl> & <dbl>\\\\\n",
       "\\hline\n",
       "\t 0-25    &   0 &  25\\\\\n",
       "\t 25-50   &  25 &  50\\\\\n",
       "\t 50-75   &  50 &  75\\\\\n",
       "\t 75-100  &  75 & 100\\\\\n",
       "\t 100-125 & 100 & 125\\\\\n",
       "\t 125-150 & 125 & 150\\\\\n",
       "\\end{tabular}\n"
      ],
      "text/markdown": [
       "\n",
       "A tibble: 6 × 3\n",
       "\n",
       "| distance &lt;chr&gt; | min_distance &lt;dbl&gt; | max_distance &lt;dbl&gt; |\n",
       "|---|---|---|\n",
       "| 0-25    |   0 |  25 |\n",
       "| 25-50   |  25 |  50 |\n",
       "| 50-75   |  50 |  75 |\n",
       "| 75-100  |  75 | 100 |\n",
       "| 100-125 | 100 | 125 |\n",
       "| 125-150 | 125 | 150 |\n",
       "\n"
      ],
      "text/plain": [
       "  distance min_distance max_distance\n",
       "1 0-25       0           25         \n",
       "2 25-50     25           50         \n",
       "3 50-75     50           75         \n",
       "4 75-100    75          100         \n",
       "5 100-125  100          125         \n",
       "6 125-150  125          150         "
      ]
     },
     "metadata": {},
     "output_type": "display_data"
    }
   ],
   "source": [
    "head(dist_ranges)"
   ]
  },
  {
   "cell_type": "code",
   "execution_count": 7,
   "id": "b4912790",
   "metadata": {
    "vscode": {
     "languageId": "r"
    }
   },
   "outputs": [],
   "source": [
    "df <- ranges %>% map_dfr(\n",
    "    .id = \"projection\",\n",
    "    ~read_excel(\n",
    "        path = excel_file,\n",
    "        sheet = sheet_name,\n",
    "        range = .x,\n",
    "        col_names = paste0(\"sample\", 1:4)\n",
    "    ) %>% bind_cols(\n",
    "        select(dist_ranges, min_distance), .\n",
    "    ) %>% pivot_longer(\n",
    "        cols = starts_with(\"sample\"),\n",
    "        names_to = \"sample_number\",\n",
    "        names_prefix = \"sample\",\n",
    "        values_to = \"num_value\"\n",
    "    )\n",
    ")"
   ]
  },
  {
   "cell_type": "code",
   "execution_count": 8,
   "id": "dc618479",
   "metadata": {
    "vscode": {
     "languageId": "r"
    }
   },
   "outputs": [],
   "source": [
    "stats = df %>% group_by(projection, min_distance) %>% summarise(\n",
    "    mean = mean(num_value),\n",
    "    sem = sd(num_value) / sqrt(n()),\n",
    "    .groups = \"drop\"\n",
    ") %>% mutate(\n",
    "    lower = mean - sem,\n",
    "    upper = mean + sem\n",
    ")"
   ]
  },
  {
   "cell_type": "code",
   "execution_count": 9,
   "id": "a8f3d305",
   "metadata": {
    "vscode": {
     "languageId": "r"
    }
   },
   "outputs": [
    {
     "data": {
      "text/html": [
       "<table class=\"dataframe\">\n",
       "<caption>A tibble: 6 × 6</caption>\n",
       "<thead>\n",
       "\t<tr><th scope=col>projection</th><th scope=col>min_distance</th><th scope=col>mean</th><th scope=col>sem</th><th scope=col>lower</th><th scope=col>upper</th></tr>\n",
       "\t<tr><th scope=col>&lt;chr&gt;</th><th scope=col>&lt;dbl&gt;</th><th scope=col>&lt;dbl&gt;</th><th scope=col>&lt;dbl&gt;</th><th scope=col>&lt;dbl&gt;</th><th scope=col>&lt;dbl&gt;</th></tr>\n",
       "</thead>\n",
       "<tbody>\n",
       "\t<tr><td>BLA-PFC</td><td>  0</td><td>0</td><td>0.0000000</td><td>0.0000000</td><td>0.000000</td></tr>\n",
       "\t<tr><td>BLA-PFC</td><td> 25</td><td>0</td><td>0.0000000</td><td>0.0000000</td><td>0.000000</td></tr>\n",
       "\t<tr><td>BLA-PFC</td><td> 50</td><td>0</td><td>0.0000000</td><td>0.0000000</td><td>0.000000</td></tr>\n",
       "\t<tr><td>BLA-PFC</td><td> 75</td><td>0</td><td>0.0000000</td><td>0.0000000</td><td>0.000000</td></tr>\n",
       "\t<tr><td>BLA-PFC</td><td>100</td><td>0</td><td>0.0000000</td><td>0.0000000</td><td>0.000000</td></tr>\n",
       "\t<tr><td>BLA-PFC</td><td>125</td><td>1</td><td>0.7071068</td><td>0.2928932</td><td>1.707107</td></tr>\n",
       "</tbody>\n",
       "</table>\n"
      ],
      "text/latex": [
       "A tibble: 6 × 6\n",
       "\\begin{tabular}{llllll}\n",
       " projection & min\\_distance & mean & sem & lower & upper\\\\\n",
       " <chr> & <dbl> & <dbl> & <dbl> & <dbl> & <dbl>\\\\\n",
       "\\hline\n",
       "\t BLA-PFC &   0 & 0 & 0.0000000 & 0.0000000 & 0.000000\\\\\n",
       "\t BLA-PFC &  25 & 0 & 0.0000000 & 0.0000000 & 0.000000\\\\\n",
       "\t BLA-PFC &  50 & 0 & 0.0000000 & 0.0000000 & 0.000000\\\\\n",
       "\t BLA-PFC &  75 & 0 & 0.0000000 & 0.0000000 & 0.000000\\\\\n",
       "\t BLA-PFC & 100 & 0 & 0.0000000 & 0.0000000 & 0.000000\\\\\n",
       "\t BLA-PFC & 125 & 1 & 0.7071068 & 0.2928932 & 1.707107\\\\\n",
       "\\end{tabular}\n"
      ],
      "text/markdown": [
       "\n",
       "A tibble: 6 × 6\n",
       "\n",
       "| projection &lt;chr&gt; | min_distance &lt;dbl&gt; | mean &lt;dbl&gt; | sem &lt;dbl&gt; | lower &lt;dbl&gt; | upper &lt;dbl&gt; |\n",
       "|---|---|---|---|---|---|\n",
       "| BLA-PFC |   0 | 0 | 0.0000000 | 0.0000000 | 0.000000 |\n",
       "| BLA-PFC |  25 | 0 | 0.0000000 | 0.0000000 | 0.000000 |\n",
       "| BLA-PFC |  50 | 0 | 0.0000000 | 0.0000000 | 0.000000 |\n",
       "| BLA-PFC |  75 | 0 | 0.0000000 | 0.0000000 | 0.000000 |\n",
       "| BLA-PFC | 100 | 0 | 0.0000000 | 0.0000000 | 0.000000 |\n",
       "| BLA-PFC | 125 | 1 | 0.7071068 | 0.2928932 | 1.707107 |\n",
       "\n"
      ],
      "text/plain": [
       "  projection min_distance mean sem       lower     upper   \n",
       "1 BLA-PFC      0          0    0.0000000 0.0000000 0.000000\n",
       "2 BLA-PFC     25          0    0.0000000 0.0000000 0.000000\n",
       "3 BLA-PFC     50          0    0.0000000 0.0000000 0.000000\n",
       "4 BLA-PFC     75          0    0.0000000 0.0000000 0.000000\n",
       "5 BLA-PFC    100          0    0.0000000 0.0000000 0.000000\n",
       "6 BLA-PFC    125          1    0.7071068 0.2928932 1.707107"
      ]
     },
     "metadata": {},
     "output_type": "display_data"
    }
   ],
   "source": [
    "head(stats)"
   ]
  },
  {
   "cell_type": "markdown",
   "id": "a30bf50e",
   "metadata": {},
   "source": [
    "## plot"
   ]
  },
  {
   "cell_type": "code",
   "execution_count": 10,
   "id": "7377b3ff",
   "metadata": {
    "vscode": {
     "languageId": "r"
    }
   },
   "outputs": [
    {
     "data": {
      "image/png": "[encoded data removed]",
      "text/plain": [
       "plot without title"
      ]
     },
     "metadata": {
      "image/png": {
       "height": 420,
       "width": 420
      }
     },
     "output_type": "display_data"
    }
   ],
   "source": [
    "plot <-stats %>%\n",
    "    ggplot(aes(x = min_distance, y = mean, color = projection)) +\n",
    "    geom_line() +\n",
    "    geom_ribbon(\n",
    "        aes(ymin = lower, ymax = upper, fill = projection), \n",
    "        alpha = 0.3, show.legend = FALSE, colour = NA\n",
    "    ) +\n",
    "    labs(x = \"Distance from pia (μm)\", y = \"Cells per 25μm\", color = NULL) + \n",
    "    scale_color_manual(\n",
    "        values = c(\"BLA-PFC\"=\"green\", \"PFC-LC\"=\"purple\", \"colabel\"=\"red\"),\n",
    "        breaks = c(\"BLA-PFC\", \"PFC-LC\", \"colabel\")\n",
    "    ) +\n",
    "    scale_fill_manual(values = c(\"BLA-PFC\"=\"green\", \"PFC-LC\"=\"purple\", \"colabel\"=\"red\")) +\n",
    "    coord_flip() +\n",
    "    scale_x_reverse(expand = expansion(mult = c(0, 0))) +\n",
    "    scale_y_continuous(expand = expansion(mult = c(0, 0.05)), position = \"right\") +\n",
    "    theme_minimal() + \n",
    "    theme(\n",
    "        panel.background = element_blank(),\n",
    "        panel.grid.major = element_blank(),\n",
    "        panel.grid.minor = element_blank(),\n",
    "        axis.ticks = element_line(color = \"black\"),\n",
    "        axis.line = element_line(color = \"black\")\n",
    "    )\n",
    "\n",
    "plot"
   ]
  },
  {
   "cell_type": "code",
   "execution_count": 13,
   "id": "90c5445b",
   "metadata": {
    "vscode": {
     "languageId": "r"
    }
   },
   "outputs": [],
   "source": [
    "ggsave(plot, filename = \"plot_density.pdf\", width = 3.5, height = 3, device = cairo_pdf)"
   ]
  },
  {
   "cell_type": "code",
   "execution_count": null,
   "id": "512afd58",
   "metadata": {
    "vscode": {
     "languageId": "r"
    }
   },
   "outputs": [],
   "source": []
  }
 ],
 "metadata": {
  "kernelspec": {
   "display_name": "R",
   "language": "R",
   "name": "ir"
  },
  "language_info": {
   "codemirror_mode": "r",
   "file_extension": ".r",
   "mimetype": "text/x-r-source",
   "name": "R",
   "pygments_lexer": "r",
   "version": "4.4.2"
  }
 },
 "nbformat": 4,
 "nbformat_minor": 5
}
